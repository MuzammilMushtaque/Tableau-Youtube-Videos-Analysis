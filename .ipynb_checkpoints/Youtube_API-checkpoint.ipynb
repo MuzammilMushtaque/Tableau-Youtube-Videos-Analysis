{
 "cells": [
  {
   "cell_type": "markdown",
   "id": "b1c478c9",
   "metadata": {},
   "source": [
    "# Find the Categories of Youtube Videos using Pafy\n",
    "\n",
    "Processing data of the trending YouTube videos in the USA between the period 2006 to 2018 and extracting their categories, finally saving the results to a new CSV file (green3.csv)."
   ]
  },
  {
   "cell_type": "code",
   "execution_count": null,
   "id": "63ca4607",
   "metadata": {},
   "outputs": [],
   "source": [
    "'''Python 3.0 using Jupyter Notebook'''\n",
    "import pandas as pd\n",
    "import numpy as np\n",
    "from statistics import mode\n",
    "import os\n",
    "import pafy\n",
    "# Set the PAFY_BACKEND environmental variable to \"internal\"\n",
    "os.environ[\"PAFY_BACKEND\"] = \"internal\"\n",
    "\n",
    "#Open and Read the Data File\n",
    "data = pd.read_csv(\"USvideos.csv\")=\n",
    "Unique_videoid = data.video_id.unique()\n",
    "print (len(Unique_videoid))\n",
    "DD= pd.DataFrame(index = np.arange(0,len(Unique_videoid)),columns =\n",
    "                 ('video_id', 'trending_date', 'title', 'channel_title', 'category_id',\n",
    "                  'publish_time', 'tags', 'views', 'likes', 'dislikes',\n",
    "                  'comment_count', 'thumbnail_link', 'comments_disabled',\n",
    "                  'ratings_disabled', 'video_error_or_removed', 'description',\n",
    "                  'total_trending_date', 'Categories'))\n",
    "for i in range(0,len(Unique_videoid)):\n",
    "    if Unique_videoid[i][0] != \"=\":\n",
    "        rslt_df = data[data['video_id'] == Unique_videoid[i]]\n",
    "        rslt_df['total_trending_date'] = len(rslt_df)\n",
    "        url = \"https://www.youtube.com/watch?v=\"+Unique_videoid[i]\n",
    "        print (url)\n",
    "        # getting video\n",
    "        try:\n",
    "            video = pafy.new(url)\n",
    "            # getting category of the video\n",
    "            value = video.category\n",
    "            print (value)\n",
    "            rslt_df['Categories'] = value\n",
    "            df_shape = rslt_df[rslt_df['trending_date'] == rslt_df['trending_date'].max()].shape\n",
    "            if df_shape[0] != 2:\n",
    "                DD.iloc[i] = rslt_df[rslt_df['trending_date'] == rslt_df['trending_date'].max()]\n",
    "            else:\n",
    "                continue\n",
    "        except OSError: # OSError appeared due to the restriction applied by the Owners of some Youtube channels\n",
    "            \n",
    "            rslt_df['Categories'] = \"Inaccessible Data\" \n",
    "            df_shape = rslt_df[rslt_df['trending_date'] == rslt_df['trending_date'].max()].shape\n",
    "            if df_shape[0] != 2:\n",
    "                DD.iloc[i] = rslt_df[rslt_df['trending_date'] == rslt_df['trending_date'].max()]\n",
    "            else:\n",
    "                continue\n",
    "        except KeyError: # KeyError appreared because the videos have been removed by Youtube Authority\n",
    "            continue\n",
    "    else:\n",
    "        continue\n",
    "DD.to_csv('___.csv', index=False)"
   ]
  }
 ],
 "metadata": {
  "kernelspec": {
   "display_name": "Python 3 (ipykernel)",
   "language": "python",
   "name": "python3"
  },
  "language_info": {
   "codemirror_mode": {
    "name": "ipython",
    "version": 3
   },
   "file_extension": ".py",
   "mimetype": "text/x-python",
   "name": "python",
   "nbconvert_exporter": "python",
   "pygments_lexer": "ipython3",
   "version": "3.11.4"
  }
 },
 "nbformat": 4,
 "nbformat_minor": 5
}
